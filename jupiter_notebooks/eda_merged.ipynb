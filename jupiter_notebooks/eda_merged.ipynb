{
 "cells": [
  {
   "cell_type": "code",
   "execution_count": 1,
   "id": "a7500f20-800f-40c5-bd1f-0bfaaf48c163",
   "metadata": {},
   "outputs": [],
   "source": [
    "import pandas as pd"
   ]
  },
  {
   "cell_type": "code",
   "execution_count": 2,
   "id": "dfd069bd-b636-484d-af66-0e5be52c0445",
   "metadata": {},
   "outputs": [],
   "source": [
    "df = pd.read_csv('train_merged.csv')"
   ]
  },
  {
   "cell_type": "code",
   "execution_count": 3,
   "id": "70a99176",
   "metadata": {},
   "outputs": [
    {
     "data": {
      "text/plain": [
       "Index(['processed_text', 'target_labels_positions'], dtype='object')"
      ]
     },
     "execution_count": 3,
     "metadata": {},
     "output_type": "execute_result"
    }
   ],
   "source": [
    "df.columns"
   ]
  },
  {
   "cell_type": "code",
   "execution_count": 4,
   "id": "56942721-81e2-4107-9c62-4cf5b92ee14b",
   "metadata": {},
   "outputs": [
    {
     "data": {
      "text/plain": [
       "3399"
      ]
     },
     "execution_count": 4,
     "metadata": {},
     "output_type": "execute_result"
    }
   ],
   "source": [
    "df['processed_text'].drop_duplicates().shape[0]"
   ]
  },
  {
   "cell_type": "code",
   "execution_count": 5,
   "id": "7bea78d5-dee1-4671-b1a3-f586d518aab2",
   "metadata": {},
   "outputs": [
    {
     "data": {
      "text/plain": [
       "886"
      ]
     },
     "execution_count": 5,
     "metadata": {},
     "output_type": "execute_result"
    }
   ],
   "source": [
    "df[df['target_labels_positions'].apply(lambda x: len(x)) > 2].shape[0]"
   ]
  },
  {
   "cell_type": "markdown",
   "id": "c9f00f62-82cb-47eb-bb43-2dcb95ffe535",
   "metadata": {},
   "source": [
    "503 (685) values in target not empty from 3399"
   ]
  },
  {
   "cell_type": "markdown",
   "id": "b2b8b254-d4ce-4589-918a-97deba33036e",
   "metadata": {},
   "source": [
    "### example"
   ]
  },
  {
   "cell_type": "code",
   "execution_count": 6,
   "id": "ca1409b3-3025-42c8-8c07-5bb61d577aab",
   "metadata": {},
   "outputs": [
    {
     "data": {
      "text/html": [
       "<div>\n",
       "<style scoped>\n",
       "    .dataframe tbody tr th:only-of-type {\n",
       "        vertical-align: middle;\n",
       "    }\n",
       "\n",
       "    .dataframe tbody tr th {\n",
       "        vertical-align: top;\n",
       "    }\n",
       "\n",
       "    .dataframe thead th {\n",
       "        text-align: right;\n",
       "    }\n",
       "</style>\n",
       "<table border=\"1\" class=\"dataframe\">\n",
       "  <thead>\n",
       "    <tr style=\"text-align: right;\">\n",
       "      <th></th>\n",
       "      <th>processed_text</th>\n",
       "      <th>target_labels_positions</th>\n",
       "    </tr>\n",
       "  </thead>\n",
       "  <tbody>\n",
       "    <tr>\n",
       "      <th>0</th>\n",
       "      <td>аа союзная тридцать пять дробь один лариса сое...</td>\n",
       "      <td>{}</td>\n",
       "    </tr>\n",
       "    <tr>\n",
       "      <th>1</th>\n",
       "      <td>аа приложение мне показывает к оплате у меня п...</td>\n",
       "      <td>{}</td>\n",
       "    </tr>\n",
       "    <tr>\n",
       "      <th>2</th>\n",
       "      <td>да лисное по призрак лишнее ну почему иду пять...</td>\n",
       "      <td>{'B-discount': [138, 212], 'B-value': [139], '...</td>\n",
       "    </tr>\n",
       "    <tr>\n",
       "      <th>3</th>\n",
       "      <td>а что добрый день NAME у меня пришел какой то ...</td>\n",
       "      <td>{'B-discount': [12]}</td>\n",
       "    </tr>\n",
       "    <tr>\n",
       "      <th>4</th>\n",
       "      <td>у меня западный с утра да да еще да да самый в...</td>\n",
       "      <td>{}</td>\n",
       "    </tr>\n",
       "  </tbody>\n",
       "</table>\n",
       "</div>"
      ],
      "text/plain": [
       "                                      processed_text  \\\n",
       "0  аа союзная тридцать пять дробь один лариса сое...   \n",
       "1  аа приложение мне показывает к оплате у меня п...   \n",
       "2  да лисное по призрак лишнее ну почему иду пять...   \n",
       "3  а что добрый день NAME у меня пришел какой то ...   \n",
       "4  у меня западный с утра да да еще да да самый в...   \n",
       "\n",
       "                             target_labels_positions  \n",
       "0                                                 {}  \n",
       "1                                                 {}  \n",
       "2  {'B-discount': [138, 212], 'B-value': [139], '...  \n",
       "3                               {'B-discount': [12]}  \n",
       "4                                                 {}  "
      ]
     },
     "execution_count": 6,
     "metadata": {},
     "output_type": "execute_result"
    }
   ],
   "source": [
    "df.head()"
   ]
  },
  {
   "cell_type": "code",
   "execution_count": 7,
   "id": "8b1cbdf8-2f89-4d65-8406-e5ec06b11af4",
   "metadata": {},
   "outputs": [
    {
     "data": {
      "text/plain": [
       "\"{'B-discount': [138, 212], 'B-value': [139], 'I-value': [140]}\""
      ]
     },
     "execution_count": 7,
     "metadata": {},
     "output_type": "execute_result"
    }
   ],
   "source": [
    "df.iloc[2]['target_labels_positions']"
   ]
  },
  {
   "cell_type": "code",
   "execution_count": 8,
   "id": "e268002a-c71f-41d1-add7-2009e1010ca3",
   "metadata": {},
   "outputs": [
    {
     "data": {
      "text/plain": [
       "'да лисное по призрак лишнее ну почему иду пять двух полностью последнего да да да и там есть данные надо чтобы стандартная двух что была пятьдесят пятьдесят десять миллионов три а первоначальный вздох сколько вас а еще какие то фиджи приедем там сейчас менеджера да вам я такая там проценты а если не столько да хорошо конечно и это заработал хорошо а инвестое отправьте пожалуйстаздравствуйте меня зовут на менеджере дело продаж группы самолет вы рассматриваете какой то определенный комплекс для себя что хотели просмотреть сколько комнат двух комнатная квартира так давайте посмотрим я вижу вы интересовались ранее да этим знаете где он находится о там есть да уже готовы какая площадь вас интересует секунду так ну вот готовая двухкомнатная пятьдесят квадратных метров с отделкой десять миллионов триста да минимум пятнадцать процентов миллион шестьсот продаж дополнительно могу вам отправить скидку два процента она действует в течение двух дней сегодня и завтра удобно сегодня к нам подъехать так ну там договор ээ уже введенный дом поэтому там нужно будет в офисе уточнять а так на этапе строительства там от трех девяти и до четырех восьми но здесь нужно смотреть потому что я тоже готовый дом но там тоже семейная ипотека есть если не семейная то от пяти девяти до шести восьми процентов да вам скидку направлять сегодня ждем вас до девяти офис работает просто этот телефон назовете администратор увидит что вы записаны на встречу да ждем вас тогда угу да конечно намегасы'"
      ]
     },
     "execution_count": 8,
     "metadata": {},
     "output_type": "execute_result"
    }
   ],
   "source": [
    "df.iloc[2]['processed_text']"
   ]
  },
  {
   "cell_type": "code",
   "execution_count": 9,
   "id": "e2712bd4-a0e2-417b-a47b-2394c66641d1",
   "metadata": {},
   "outputs": [
    {
     "data": {
      "text/plain": [
       "'процента'"
      ]
     },
     "execution_count": 9,
     "metadata": {},
     "output_type": "execute_result"
    }
   ],
   "source": [
    "df.iloc[2]['processed_text'].split()[140]"
   ]
  },
  {
   "cell_type": "code",
   "execution_count": 10,
   "id": "10cbc237-bae2-41db-95be-e0e421d8464a",
   "metadata": {},
   "outputs": [
    {
     "data": {
      "text/plain": [
       "'два'"
      ]
     },
     "execution_count": 10,
     "metadata": {},
     "output_type": "execute_result"
    }
   ],
   "source": [
    "df.iloc[2]['processed_text'].split()[139]"
   ]
  },
  {
   "cell_type": "code",
   "execution_count": 11,
   "id": "5fa6889c-851a-4fc9-aa3a-e0e7b45a8ed4",
   "metadata": {},
   "outputs": [
    {
     "data": {
      "text/plain": [
       "'скидку'"
      ]
     },
     "execution_count": 11,
     "metadata": {},
     "output_type": "execute_result"
    }
   ],
   "source": [
    "df.iloc[2]['processed_text'].split()[138]"
   ]
  },
  {
   "cell_type": "markdown",
   "id": "3193972a-f4a9-4230-b136-701f83c5241f",
   "metadata": {},
   "source": [
    "### stats"
   ]
  },
  {
   "cell_type": "code",
   "execution_count": 12,
   "id": "dee9d8d5-a847-4449-896c-0c401231fcb8",
   "metadata": {},
   "outputs": [],
   "source": [
    "df['I-value'] = df['target_labels_positions'].apply(lambda x: eval(x)['I-value'] if 'I-value' in x else None)\n",
    "df['B-value'] = df['target_labels_positions'].apply(lambda x: eval(x)['B-value'] if 'B-value' in x else None)\n",
    "df['B-discount'] = df['target_labels_positions'].apply(lambda x: eval(x)['B-discount'] if 'B-discount' in x else None)"
   ]
  },
  {
   "cell_type": "code",
   "execution_count": 13,
   "id": "6e0d3ec1-af17-41fb-a06f-c82e0fcefdd1",
   "metadata": {},
   "outputs": [],
   "source": [
    "df['I-value_max'] = df['I-value'].apply(lambda x: max(x) if x else None)\n",
    "df['B-value_max'] = df['B-value'].apply(lambda x: max(x) if x else None)\n",
    "df['B-discount_max'] = df['B-discount'].apply(lambda x: max(x) if x else None)\n",
    "df['I-value_min'] = df['I-value'].apply(lambda x: min(x) if x else None)\n",
    "df['B-value_min'] = df['B-value'].apply(lambda x: min(x) if x else None)\n",
    "df['B-discount_min'] = df['B-discount'].apply(lambda x: min(x) if x else None)"
   ]
  },
  {
   "cell_type": "code",
   "execution_count": 14,
   "id": "33f9033b-f341-47be-a9c7-cb49d45d3002",
   "metadata": {},
   "outputs": [],
   "source": [
    "df['max'] = df[['I-value_max', 'B-value_max', 'B-discount_max',\n",
    "       'I-value_min', 'B-value_min', 'B-discount_min']].max(axis=1)\n",
    "df['min'] = df[['I-value_max', 'B-value_max', 'B-discount_max',\n",
    "       'I-value_min', 'B-value_min', 'B-discount_min']].min(axis=1)"
   ]
  },
  {
   "cell_type": "code",
   "execution_count": 15,
   "id": "caf8717b-e481-4c2a-850b-16c10dba3bc3",
   "metadata": {},
   "outputs": [
    {
     "data": {
      "text/plain": [
       "count    886.000000\n",
       "mean      34.607223\n",
       "std       71.814822\n",
       "min        0.000000\n",
       "25%        2.000000\n",
       "50%        3.000000\n",
       "75%       21.000000\n",
       "max      454.000000\n",
       "dtype: float64"
      ]
     },
     "execution_count": 15,
     "metadata": {},
     "output_type": "execute_result"
    }
   ],
   "source": [
    "(df['max'] - df['min']).describe()"
   ]
  },
  {
   "cell_type": "code",
   "execution_count": 16,
   "id": "60ccd60d-52d5-4ea2-9c4d-940b76f2bf88",
   "metadata": {},
   "outputs": [
    {
     "data": {
      "text/plain": [
       "133.0"
      ]
     },
     "execution_count": 16,
     "metadata": {},
     "output_type": "execute_result"
    }
   ],
   "source": [
    "(df['max'] - df['min']).quantile(0.9)"
   ]
  },
  {
   "cell_type": "markdown",
   "id": "c8918e14-9fae-459e-9426-820140aa3c77",
   "metadata": {},
   "source": [
    "90% of answers has no more than 57 (80) index difference. Mean value of diffrence 2 words."
   ]
  },
  {
   "cell_type": "markdown",
   "id": "027afbc8-a4ca-4ec5-b408-ec37cfd3312a",
   "metadata": {},
   "source": [
    "### I-value"
   ]
  },
  {
   "cell_type": "code",
   "execution_count": 17,
   "id": "e38d471f-3028-4d1d-8a60-47f0af194c63",
   "metadata": {},
   "outputs": [],
   "source": [
    "i_val = df[['processed_text','I-value']].dropna()"
   ]
  },
  {
   "cell_type": "code",
   "execution_count": 18,
   "id": "20607b1b-67dc-4981-a021-a8818c802b09",
   "metadata": {},
   "outputs": [
    {
     "data": {
      "text/plain": [
       "690"
      ]
     },
     "execution_count": 18,
     "metadata": {},
     "output_type": "execute_result"
    }
   ],
   "source": [
    "i_val.shape[0]"
   ]
  },
  {
   "cell_type": "markdown",
   "id": "83175ff0-c914-46ee-8339-f5eb1d7ffca4",
   "metadata": {},
   "source": [
    "344 (500) not empty I-value"
   ]
  },
  {
   "cell_type": "code",
   "execution_count": 19,
   "id": "c76500fd-2665-4ace-9136-9f028003f195",
   "metadata": {},
   "outputs": [],
   "source": [
    "i_val['ans'] = i_val.apply(lambda x: [i for idx,i in enumerate(x['processed_text'].split()) if idx in x['I-value']], axis=1)"
   ]
  },
  {
   "cell_type": "code",
   "execution_count": 20,
   "id": "736e3554-ad21-4dc1-8d18-9368868228df",
   "metadata": {},
   "outputs": [
    {
     "data": {
      "text/plain": [
       "1    460\n",
       "2    141\n",
       "3     53\n",
       "4     24\n",
       "5      7\n",
       "6      2\n",
       "7      2\n",
       "8      1\n",
       "Name: ans, dtype: int64"
      ]
     },
     "execution_count": 20,
     "metadata": {},
     "output_type": "execute_result"
    }
   ],
   "source": [
    "i_val['ans'].apply(lambda x: len(x)).value_counts().sort_index()"
   ]
  },
  {
   "cell_type": "markdown",
   "id": "c27ff732-001b-4644-a44b-d9f1b13fcd1d",
   "metadata": {},
   "source": [
    "almost all data has 1-2 indexes of I-value"
   ]
  },
  {
   "cell_type": "code",
   "execution_count": 21,
   "id": "68ec7f2b-779e-4340-9b43-e77380c0f0cb",
   "metadata": {},
   "outputs": [
    {
     "data": {
      "text/html": [
       "<div>\n",
       "<style scoped>\n",
       "    .dataframe tbody tr th:only-of-type {\n",
       "        vertical-align: middle;\n",
       "    }\n",
       "\n",
       "    .dataframe tbody tr th {\n",
       "        vertical-align: top;\n",
       "    }\n",
       "\n",
       "    .dataframe thead th {\n",
       "        text-align: right;\n",
       "    }\n",
       "</style>\n",
       "<table border=\"1\" class=\"dataframe\">\n",
       "  <thead>\n",
       "    <tr style=\"text-align: right;\">\n",
       "      <th></th>\n",
       "      <th>processed_text</th>\n",
       "      <th>I-value</th>\n",
       "      <th>ans</th>\n",
       "    </tr>\n",
       "  </thead>\n",
       "  <tbody>\n",
       "    <tr>\n",
       "      <th>110</th>\n",
       "      <td>а добрый день NAME интересует вот студия вашег...</td>\n",
       "      <td>[315, 316, 345, 346]</td>\n",
       "      <td>[один, процент, один, процент]</td>\n",
       "    </tr>\n",
       "    <tr>\n",
       "      <th>125</th>\n",
       "      <td>у него здравствуйте скажите пожалуйста пожилом...</td>\n",
       "      <td>[136, 188, 200, 214, 232, 247]</td>\n",
       "      <td>[процента, процента, процента, процента, проце...</td>\n",
       "    </tr>\n",
       "    <tr>\n",
       "      <th>188</th>\n",
       "      <td>здравствуйте меня зовут NAME а я записана к ва...</td>\n",
       "      <td>[25, 38, 39, 55, 118, 133, 145]</td>\n",
       "      <td>[процента, четыре, процента, процента, процент...</td>\n",
       "    </tr>\n",
       "    <tr>\n",
       "      <th>555</th>\n",
       "      <td>алло там еще раз приветствует NAME компании уд...</td>\n",
       "      <td>[82, 87, 149, 197]</td>\n",
       "      <td>[процентов, процентов, процентов, процентов]</td>\n",
       "    </tr>\n",
       "    <tr>\n",
       "      <th>577</th>\n",
       "      <td>NAME добрый день а ина менеджер по продаже вам...</td>\n",
       "      <td>[61, 309, 310, 311, 312]</td>\n",
       "      <td>[процента, пятьсот, девяносто, две, миллион]</td>\n",
       "    </tr>\n",
       "    <tr>\n",
       "      <th>652</th>\n",
       "      <td>да здравствуйте наверное или таймера да потому...</td>\n",
       "      <td>[119, 142, 145, 308, 309, 310, 311]</td>\n",
       "      <td>[процента, процента, процента, двух, с, полови...</td>\n",
       "    </tr>\n",
       "    <tr>\n",
       "      <th>707</th>\n",
       "      <td>NAME здравствуйте еще раз можете мне объяснить...</td>\n",
       "      <td>[309, 325, 326, 327]</td>\n",
       "      <td>[процент, пятнадцати, тысяч, рублей]</td>\n",
       "    </tr>\n",
       "    <tr>\n",
       "      <th>779</th>\n",
       "      <td>NAME по поводу меня соединили с вами по поводу...</td>\n",
       "      <td>[279, 289, 400, 461]</td>\n",
       "      <td>[процента, процента, процента, процента]</td>\n",
       "    </tr>\n",
       "    <tr>\n",
       "      <th>815</th>\n",
       "      <td>NAME я живу подскажите пожалуйста вот мы смотр...</td>\n",
       "      <td>[261, 275, 276, 293]</td>\n",
       "      <td>[процента, три, процента, процентов]</td>\n",
       "    </tr>\n",
       "    <tr>\n",
       "      <th>888</th>\n",
       "      <td>добрый день имя клиента NAME интересует жилой ...</td>\n",
       "      <td>[96, 97, 98, 272]</td>\n",
       "      <td>[два, процента, и, процента]</td>\n",
       "    </tr>\n",
       "    <tr>\n",
       "      <th>891</th>\n",
       "      <td>а меня зовут понял я не знаю сказали переведу ...</td>\n",
       "      <td>[341, 342, 367, 396, 422]</td>\n",
       "      <td>[девяти, процентов, процент, процент, процента]</td>\n",
       "    </tr>\n",
       "    <tr>\n",
       "      <th>966</th>\n",
       "      <td>знаешь просто мне эсэмэску отправили что с дол...</td>\n",
       "      <td>[27, 28, 129, 130, 238]</td>\n",
       "      <td>[миллионы, рублей, миллиона, рублей, тысяч]</td>\n",
       "    </tr>\n",
       "    <tr>\n",
       "      <th>1053</th>\n",
       "      <td>да здравствуйте девушка меня зовут NAME а скин...</td>\n",
       "      <td>[56, 214, 221, 447]</td>\n",
       "      <td>[процента, процента, процента, процента]</td>\n",
       "    </tr>\n",
       "    <tr>\n",
       "      <th>1107</th>\n",
       "      <td>здравствуйте NAME зовут бег я а можно соединит...</td>\n",
       "      <td>[236, 237, 238, 239, 248, 249]</td>\n",
       "      <td>[плюс, четыре, семь, процентов, плюс, четыре]</td>\n",
       "    </tr>\n",
       "    <tr>\n",
       "      <th>1307</th>\n",
       "      <td>NAME еще раз свидали по поводу да смотрите мы ...</td>\n",
       "      <td>[161, 165, 363, 416]</td>\n",
       "      <td>[процентов, процентов, процентов, процентов]</td>\n",
       "    </tr>\n",
       "    <tr>\n",
       "      <th>1399</th>\n",
       "      <td>такси добрый день наталье самолет плюс подожда...</td>\n",
       "      <td>[24, 25, 26, 110]</td>\n",
       "      <td>[плюс, два, процента, процентов]</td>\n",
       "    </tr>\n",
       "    <tr>\n",
       "      <th>1612</th>\n",
       "      <td>здравствуйте ADDRESS короче угу все юг или сев...</td>\n",
       "      <td>[119, 120, 209, 210, 211]</td>\n",
       "      <td>[процента, допустим, процента, да, так]</td>\n",
       "    </tr>\n",
       "    <tr>\n",
       "      <th>1650</th>\n",
       "      <td>NAME поменялись пароны девушки извините NAME н...</td>\n",
       "      <td>[214, 215, 216, 217]</td>\n",
       "      <td>[одного, до, двух, процентов]</td>\n",
       "    </tr>\n",
       "    <tr>\n",
       "      <th>1851</th>\n",
       "      <td>новое ну ка меня зовут NAME я знаете нет я зво...</td>\n",
       "      <td>[236, 237, 238, 239]</td>\n",
       "      <td>[четырех, до, семи, процентов]</td>\n",
       "    </tr>\n",
       "    <tr>\n",
       "      <th>1867</th>\n",
       "      <td>здравствуйте меня зовут раша менеджер компании...</td>\n",
       "      <td>[101, 186, 187, 262]</td>\n",
       "      <td>[процента, плюс, два, процента]</td>\n",
       "    </tr>\n",
       "    <tr>\n",
       "      <th>1910</th>\n",
       "      <td>здравствуйте ээ я агент меня интересует инжило...</td>\n",
       "      <td>[29, 30, 71, 74]</td>\n",
       "      <td>[десяти, процент, процента, процентов]</td>\n",
       "    </tr>\n",
       "    <tr>\n",
       "      <th>1988</th>\n",
       "      <td>квартал маринован самолет две комнате я вот хо...</td>\n",
       "      <td>[75, 76, 77, 405]</td>\n",
       "      <td>[процента, два, процента, процента]</td>\n",
       "    </tr>\n",
       "    <tr>\n",
       "      <th>2005</th>\n",
       "      <td>NAME повел студии NAME досуг общественным тран...</td>\n",
       "      <td>[210, 211, 212, 213, 228]</td>\n",
       "      <td>[процента, от, остальной, квартиры, процента]</td>\n",
       "    </tr>\n",
       "    <tr>\n",
       "      <th>2206</th>\n",
       "      <td>здравствуйте а вот написано вот акция выгодка ...</td>\n",
       "      <td>[47, 89, 90, 91]</td>\n",
       "      <td>[двух, до, двух, миллионов]</td>\n",
       "    </tr>\n",
       "    <tr>\n",
       "      <th>2264</th>\n",
       "      <td>NAME меня NAME зовут с агентство по недвижимос...</td>\n",
       "      <td>[32, 33, 34, 35]</td>\n",
       "      <td>[трехсот, пяти, до, двух]</td>\n",
       "    </tr>\n",
       "    <tr>\n",
       "      <th>2403</th>\n",
       "      <td>NAME подскажите пожалуйста пригород лесную ква...</td>\n",
       "      <td>[98, 110, 125, 133]</td>\n",
       "      <td>[процентов, процента, процента, процентов]</td>\n",
       "    </tr>\n",
       "    <tr>\n",
       "      <th>2422</th>\n",
       "      <td>по продажам фамильный парк по кладовому помеще...</td>\n",
       "      <td>[162, 184, 247, 248]</td>\n",
       "      <td>[процентов, процентов, процентная, плата]</td>\n",
       "    </tr>\n",
       "    <tr>\n",
       "      <th>2427</th>\n",
       "      <td>NAME мне нужно наверное там рядом карточки вот...</td>\n",
       "      <td>[215, 216, 366, 382, 393]</td>\n",
       "      <td>[про, центра, процента, процента, процента]</td>\n",
       "    </tr>\n",
       "    <tr>\n",
       "      <th>2734</th>\n",
       "      <td>спасибо доброе утро меня зовут оксана я вам зв...</td>\n",
       "      <td>[203, 212, 222, 223]</td>\n",
       "      <td>[процента, процента, десяти, процентов]</td>\n",
       "    </tr>\n",
       "    <tr>\n",
       "      <th>2800</th>\n",
       "      <td>NAME будьте добры подскажите по какой услуге м...</td>\n",
       "      <td>[209, 210, 211, 212, 213]</td>\n",
       "      <td>[четыреста, тысяч, шестьсот, пятьдесят, четыре]</td>\n",
       "    </tr>\n",
       "    <tr>\n",
       "      <th>2929</th>\n",
       "      <td>NAME фемился не покамест недвижимости смотри с...</td>\n",
       "      <td>[21, 22, 23, 24]</td>\n",
       "      <td>[трех, с, половиной, процентов]</td>\n",
       "    </tr>\n",
       "    <tr>\n",
       "      <th>3042</th>\n",
       "      <td>здравствуйте скажите что там сейчас подорожала...</td>\n",
       "      <td>[257, 325, 326, 327]</td>\n",
       "      <td>[пятьсот, двух, трех, процентов]</td>\n",
       "    </tr>\n",
       "    <tr>\n",
       "      <th>3045</th>\n",
       "      <td>здравствуйте NAME NAME студии данные сколько с...</td>\n",
       "      <td>[111, 112, 130, 131]</td>\n",
       "      <td>[пятнадцати, процентов, пятнадцати, процентов]</td>\n",
       "    </tr>\n",
       "    <tr>\n",
       "      <th>3165</th>\n",
       "      <td>да здравствуйте NAME меня звать я смотрю там ж...</td>\n",
       "      <td>[101, 102, 103, 267]</td>\n",
       "      <td>[двести, девяносто, два, процент]</td>\n",
       "    </tr>\n",
       "    <tr>\n",
       "      <th>3312</th>\n",
       "      <td>здравствуйте я NAME я сейчас с юлей разговарив...</td>\n",
       "      <td>[70, 135, 357, 358]</td>\n",
       "      <td>[процентов, процентов, пятнадцати, процентов]</td>\n",
       "    </tr>\n",
       "    <tr>\n",
       "      <th>3358</th>\n",
       "      <td>NAME добрый день я вот мне сейчас это вам пере...</td>\n",
       "      <td>[100, 101, 107, 292, 293, 360, 361, 390]</td>\n",
       "      <td>[пятнадцати, процентов, процентов, процента, в...</td>\n",
       "    </tr>\n",
       "  </tbody>\n",
       "</table>\n",
       "</div>"
      ],
      "text/plain": [
       "                                         processed_text  \\\n",
       "110   а добрый день NAME интересует вот студия вашег...   \n",
       "125   у него здравствуйте скажите пожалуйста пожилом...   \n",
       "188   здравствуйте меня зовут NAME а я записана к ва...   \n",
       "555   алло там еще раз приветствует NAME компании уд...   \n",
       "577   NAME добрый день а ина менеджер по продаже вам...   \n",
       "652   да здравствуйте наверное или таймера да потому...   \n",
       "707   NAME здравствуйте еще раз можете мне объяснить...   \n",
       "779   NAME по поводу меня соединили с вами по поводу...   \n",
       "815   NAME я живу подскажите пожалуйста вот мы смотр...   \n",
       "888   добрый день имя клиента NAME интересует жилой ...   \n",
       "891   а меня зовут понял я не знаю сказали переведу ...   \n",
       "966   знаешь просто мне эсэмэску отправили что с дол...   \n",
       "1053  да здравствуйте девушка меня зовут NAME а скин...   \n",
       "1107  здравствуйте NAME зовут бег я а можно соединит...   \n",
       "1307  NAME еще раз свидали по поводу да смотрите мы ...   \n",
       "1399  такси добрый день наталье самолет плюс подожда...   \n",
       "1612  здравствуйте ADDRESS короче угу все юг или сев...   \n",
       "1650  NAME поменялись пароны девушки извините NAME н...   \n",
       "1851  новое ну ка меня зовут NAME я знаете нет я зво...   \n",
       "1867  здравствуйте меня зовут раша менеджер компании...   \n",
       "1910  здравствуйте ээ я агент меня интересует инжило...   \n",
       "1988  квартал маринован самолет две комнате я вот хо...   \n",
       "2005  NAME повел студии NAME досуг общественным тран...   \n",
       "2206  здравствуйте а вот написано вот акция выгодка ...   \n",
       "2264  NAME меня NAME зовут с агентство по недвижимос...   \n",
       "2403  NAME подскажите пожалуйста пригород лесную ква...   \n",
       "2422  по продажам фамильный парк по кладовому помеще...   \n",
       "2427  NAME мне нужно наверное там рядом карточки вот...   \n",
       "2734  спасибо доброе утро меня зовут оксана я вам зв...   \n",
       "2800  NAME будьте добры подскажите по какой услуге м...   \n",
       "2929  NAME фемился не покамест недвижимости смотри с...   \n",
       "3042  здравствуйте скажите что там сейчас подорожала...   \n",
       "3045  здравствуйте NAME NAME студии данные сколько с...   \n",
       "3165  да здравствуйте NAME меня звать я смотрю там ж...   \n",
       "3312  здравствуйте я NAME я сейчас с юлей разговарив...   \n",
       "3358  NAME добрый день я вот мне сейчас это вам пере...   \n",
       "\n",
       "                                       I-value  \\\n",
       "110                       [315, 316, 345, 346]   \n",
       "125             [136, 188, 200, 214, 232, 247]   \n",
       "188            [25, 38, 39, 55, 118, 133, 145]   \n",
       "555                         [82, 87, 149, 197]   \n",
       "577                   [61, 309, 310, 311, 312]   \n",
       "652        [119, 142, 145, 308, 309, 310, 311]   \n",
       "707                       [309, 325, 326, 327]   \n",
       "779                       [279, 289, 400, 461]   \n",
       "815                       [261, 275, 276, 293]   \n",
       "888                          [96, 97, 98, 272]   \n",
       "891                  [341, 342, 367, 396, 422]   \n",
       "966                    [27, 28, 129, 130, 238]   \n",
       "1053                       [56, 214, 221, 447]   \n",
       "1107            [236, 237, 238, 239, 248, 249]   \n",
       "1307                      [161, 165, 363, 416]   \n",
       "1399                         [24, 25, 26, 110]   \n",
       "1612                 [119, 120, 209, 210, 211]   \n",
       "1650                      [214, 215, 216, 217]   \n",
       "1851                      [236, 237, 238, 239]   \n",
       "1867                      [101, 186, 187, 262]   \n",
       "1910                          [29, 30, 71, 74]   \n",
       "1988                         [75, 76, 77, 405]   \n",
       "2005                 [210, 211, 212, 213, 228]   \n",
       "2206                          [47, 89, 90, 91]   \n",
       "2264                          [32, 33, 34, 35]   \n",
       "2403                       [98, 110, 125, 133]   \n",
       "2422                      [162, 184, 247, 248]   \n",
       "2427                 [215, 216, 366, 382, 393]   \n",
       "2734                      [203, 212, 222, 223]   \n",
       "2800                 [209, 210, 211, 212, 213]   \n",
       "2929                          [21, 22, 23, 24]   \n",
       "3042                      [257, 325, 326, 327]   \n",
       "3045                      [111, 112, 130, 131]   \n",
       "3165                      [101, 102, 103, 267]   \n",
       "3312                       [70, 135, 357, 358]   \n",
       "3358  [100, 101, 107, 292, 293, 360, 361, 390]   \n",
       "\n",
       "                                                    ans  \n",
       "110                      [один, процент, один, процент]  \n",
       "125   [процента, процента, процента, процента, проце...  \n",
       "188   [процента, четыре, процента, процента, процент...  \n",
       "555        [процентов, процентов, процентов, процентов]  \n",
       "577        [процента, пятьсот, девяносто, две, миллион]  \n",
       "652   [процента, процента, процента, двух, с, полови...  \n",
       "707                [процент, пятнадцати, тысяч, рублей]  \n",
       "779            [процента, процента, процента, процента]  \n",
       "815                [процента, три, процента, процентов]  \n",
       "888                        [два, процента, и, процента]  \n",
       "891     [девяти, процентов, процент, процент, процента]  \n",
       "966         [миллионы, рублей, миллиона, рублей, тысяч]  \n",
       "1053           [процента, процента, процента, процента]  \n",
       "1107      [плюс, четыре, семь, процентов, плюс, четыре]  \n",
       "1307       [процентов, процентов, процентов, процентов]  \n",
       "1399                   [плюс, два, процента, процентов]  \n",
       "1612            [процента, допустим, процента, да, так]  \n",
       "1650                      [одного, до, двух, процентов]  \n",
       "1851                     [четырех, до, семи, процентов]  \n",
       "1867                    [процента, плюс, два, процента]  \n",
       "1910             [десяти, процент, процента, процентов]  \n",
       "1988                [процента, два, процента, процента]  \n",
       "2005      [процента, от, остальной, квартиры, процента]  \n",
       "2206                        [двух, до, двух, миллионов]  \n",
       "2264                          [трехсот, пяти, до, двух]  \n",
       "2403         [процентов, процента, процента, процентов]  \n",
       "2422          [процентов, процентов, процентная, плата]  \n",
       "2427        [про, центра, процента, процента, процента]  \n",
       "2734            [процента, процента, десяти, процентов]  \n",
       "2800    [четыреста, тысяч, шестьсот, пятьдесят, четыре]  \n",
       "2929                    [трех, с, половиной, процентов]  \n",
       "3042                   [пятьсот, двух, трех, процентов]  \n",
       "3045     [пятнадцати, процентов, пятнадцати, процентов]  \n",
       "3165                  [двести, девяносто, два, процент]  \n",
       "3312      [процентов, процентов, пятнадцати, процентов]  \n",
       "3358  [пятнадцати, процентов, процентов, процента, в...  "
      ]
     },
     "execution_count": 21,
     "metadata": {},
     "output_type": "execute_result"
    }
   ],
   "source": [
    "i_val[i_val['ans'].apply(lambda x: len(x)) > 3]"
   ]
  },
  {
   "cell_type": "code",
   "execution_count": 22,
   "id": "3db3a214",
   "metadata": {},
   "outputs": [],
   "source": [
    "i_val[i_val['ans'].apply(lambda x: len(x)) > 3].to_csv('i_val.csv', sep=';')"
   ]
  },
  {
   "cell_type": "code",
   "execution_count": 23,
   "id": "374b7b23-1e9c-43b5-bcc3-470f5d704e99",
   "metadata": {},
   "outputs": [],
   "source": [
    "from collections import defaultdict\n",
    "from nltk.stem import SnowballStemmer\n",
    "\n",
    "d = defaultdict(int)\n",
    "ss = SnowballStemmer(language='russian')\n",
    "for list_words in list(i_val['ans'].values):\n",
    "    for word in list_words:\n",
    "        word = ss.stem(word.lower())\n",
    "        d[word] += 1"
   ]
  },
  {
   "cell_type": "markdown",
   "id": "a2b8803b-70f2-4571-b9c5-6fcd77d957b5",
   "metadata": {},
   "source": [
    "Most popular words in I-value:"
   ]
  },
  {
   "cell_type": "code",
   "execution_count": 24,
   "id": "4111330c-9819-41ec-bcbc-cf9f65728698",
   "metadata": {},
   "outputs": [
    {
     "data": {
      "text/plain": [
       "[('процент', 813),\n",
       " ('два', 29),\n",
       " ('тысяч', 22),\n",
       " ('один', 15),\n",
       " ('миллион', 11),\n",
       " ('пятнадцат', 11),\n",
       " ('двух', 9),\n",
       " ('рубл', 8),\n",
       " ('пятьсот', 6),\n",
       " ('пятнадца', 6),\n",
       " ('четыр', 5),\n",
       " ('три', 5),\n",
       " ('одн', 5),\n",
       " ('восем', 5),\n",
       " ('плюс', 5),\n",
       " ('про', 5),\n",
       " ('до', 5),\n",
       " ('а', 4),\n",
       " ('с', 4),\n",
       " ('процентн', 4)]"
      ]
     },
     "execution_count": 24,
     "metadata": {},
     "output_type": "execute_result"
    }
   ],
   "source": [
    "sorted(d.items(), key=lambda k_v: k_v[1], reverse=True)[:20]"
   ]
  },
  {
   "cell_type": "markdown",
   "id": "c3e1510c-97c1-408e-8dac-4e080d41caff",
   "metadata": {},
   "source": [
    "### B-value"
   ]
  },
  {
   "cell_type": "code",
   "execution_count": 25,
   "id": "885b8a85-a672-4b2a-8e66-d28d44cad4f8",
   "metadata": {},
   "outputs": [],
   "source": [
    "b_val = df[['processed_text','B-value']].dropna()"
   ]
  },
  {
   "cell_type": "code",
   "execution_count": 26,
   "id": "7aa043fa-8d90-4f5e-b376-095ece075bd4",
   "metadata": {},
   "outputs": [
    {
     "data": {
      "text/plain": [
       "737"
      ]
     },
     "execution_count": 26,
     "metadata": {},
     "output_type": "execute_result"
    }
   ],
   "source": [
    "b_val.shape[0]"
   ]
  },
  {
   "cell_type": "markdown",
   "id": "3ed8fc8c-aadc-4f8d-82f6-cf9fa0843b47",
   "metadata": {},
   "source": [
    "377 (553) not empty B-value"
   ]
  },
  {
   "cell_type": "code",
   "execution_count": 27,
   "id": "0a11be80-064c-47b7-bf97-b7aa48c0ab8a",
   "metadata": {},
   "outputs": [],
   "source": [
    "b_val['ans'] = b_val.apply(lambda x: [i for idx,i in enumerate(x['processed_text'].split()) if idx in x['B-value']], axis=1)"
   ]
  },
  {
   "cell_type": "code",
   "execution_count": 28,
   "id": "a4ced9de-b1b0-414c-b53a-8d702a3205f8",
   "metadata": {},
   "outputs": [
    {
     "data": {
      "text/plain": [
       "1    483\n",
       "2    155\n",
       "3     64\n",
       "4     25\n",
       "5      5\n",
       "6      3\n",
       "7      1\n",
       "8      1\n",
       "Name: ans, dtype: int64"
      ]
     },
     "execution_count": 28,
     "metadata": {},
     "output_type": "execute_result"
    }
   ],
   "source": [
    "b_val['ans'].apply(lambda x: len(x)).value_counts().sort_index()"
   ]
  },
  {
   "cell_type": "markdown",
   "id": "5961cb45-6f6a-4ddb-80d1-e9ae5c59892e",
   "metadata": {},
   "source": [
    "almost all data has 1-2 indexes of B-value - maximum 7"
   ]
  },
  {
   "cell_type": "code",
   "execution_count": 29,
   "id": "27029209-5a71-48de-b738-71d4d953f507",
   "metadata": {},
   "outputs": [
    {
     "data": {
      "text/html": [
       "<div>\n",
       "<style scoped>\n",
       "    .dataframe tbody tr th:only-of-type {\n",
       "        vertical-align: middle;\n",
       "    }\n",
       "\n",
       "    .dataframe tbody tr th {\n",
       "        vertical-align: top;\n",
       "    }\n",
       "\n",
       "    .dataframe thead th {\n",
       "        text-align: right;\n",
       "    }\n",
       "</style>\n",
       "<table border=\"1\" class=\"dataframe\">\n",
       "  <thead>\n",
       "    <tr style=\"text-align: right;\">\n",
       "      <th></th>\n",
       "      <th>processed_text</th>\n",
       "      <th>B-value</th>\n",
       "      <th>ans</th>\n",
       "    </tr>\n",
       "  </thead>\n",
       "  <tbody>\n",
       "    <tr>\n",
       "      <th>88</th>\n",
       "      <td>всем привет ни отвлекаю минутка будет скажи по...</td>\n",
       "      <td>[38, 77, 84, 219, 225]</td>\n",
       "      <td>[четыре, четыре, восемь, четыре, четыре]</td>\n",
       "    </tr>\n",
       "    <tr>\n",
       "      <th>125</th>\n",
       "      <td>у него здравствуйте скажите пожалуйста пожилом...</td>\n",
       "      <td>[105, 135, 187, 199, 213, 231, 246, 247]</td>\n",
       "      <td>[двестидобрый, два, три, три, три, два, три, п...</td>\n",
       "    </tr>\n",
       "    <tr>\n",
       "      <th>188</th>\n",
       "      <td>здравствуйте меня зовут NAME а я записана к ва...</td>\n",
       "      <td>[24, 38, 54, 117, 132, 144]</td>\n",
       "      <td>[два, четыре, два, два, четыре, два]</td>\n",
       "    </tr>\n",
       "    <tr>\n",
       "      <th>555</th>\n",
       "      <td>алло там еще раз приветствует NAME компании уд...</td>\n",
       "      <td>[81, 86, 146, 148, 196]</td>\n",
       "      <td>[пять, восемь, процентов, шесть, пять]</td>\n",
       "    </tr>\n",
       "    <tr>\n",
       "      <th>561</th>\n",
       "      <td>здравствуйте NAME меня зовут NAME интересует т...</td>\n",
       "      <td>[317, 461, 466, 467]</td>\n",
       "      <td>[два, два, два, процента]</td>\n",
       "    </tr>\n",
       "    <tr>\n",
       "      <th>577</th>\n",
       "      <td>NAME добрый день а ина менеджер по продаже вам...</td>\n",
       "      <td>[60, 308, 310, 312]</td>\n",
       "      <td>[четыре, пять, девяносто, миллион]</td>\n",
       "    </tr>\n",
       "    <tr>\n",
       "      <th>652</th>\n",
       "      <td>да здравствуйте наверное или таймера да потому...</td>\n",
       "      <td>[118, 141, 144, 307]</td>\n",
       "      <td>[три, три, три, до]</td>\n",
       "    </tr>\n",
       "    <tr>\n",
       "      <th>707</th>\n",
       "      <td>NAME здравствуйте еще раз можете мне объяснить...</td>\n",
       "      <td>[308, 324, 325, 327]</td>\n",
       "      <td>[один, около, пятнадцати, рублей]</td>\n",
       "    </tr>\n",
       "    <tr>\n",
       "      <th>779</th>\n",
       "      <td>NAME по поводу меня соединили с вами по поводу...</td>\n",
       "      <td>[278, 288, 399, 460]</td>\n",
       "      <td>[два, два, два, два]</td>\n",
       "    </tr>\n",
       "    <tr>\n",
       "      <th>815</th>\n",
       "      <td>NAME я живу подскажите пожалуйста вот мы смотр...</td>\n",
       "      <td>[260, 274, 276, 292]</td>\n",
       "      <td>[два, пять, процента, пять]</td>\n",
       "    </tr>\n",
       "    <tr>\n",
       "      <th>891</th>\n",
       "      <td>а меня зовут понял я не знаю сказали переведу ...</td>\n",
       "      <td>[340, 366, 387, 395, 421, 422]</td>\n",
       "      <td>[до, один, продаж, один, два, процента]</td>\n",
       "    </tr>\n",
       "    <tr>\n",
       "      <th>932</th>\n",
       "      <td>NAME добрый день подскажите пожалуйста у меня ...</td>\n",
       "      <td>[17, 50, 133, 142]</td>\n",
       "      <td>[восемь, восемь, восемь, девятьсот]</td>\n",
       "    </tr>\n",
       "    <tr>\n",
       "      <th>966</th>\n",
       "      <td>знаешь просто мне эсэмэску отправили что с дол...</td>\n",
       "      <td>[26, 28, 128, 237]</td>\n",
       "      <td>[до, рублей, до, триста]</td>\n",
       "    </tr>\n",
       "    <tr>\n",
       "      <th>1053</th>\n",
       "      <td>да здравствуйте девушка меня зовут NAME а скин...</td>\n",
       "      <td>[55, 213, 220, 446]</td>\n",
       "      <td>[два, два, два, два]</td>\n",
       "    </tr>\n",
       "    <tr>\n",
       "      <th>1065</th>\n",
       "      <td>здравствуйте я да меня зовут тимура смотрите я...</td>\n",
       "      <td>[68, 256, 314, 466]</td>\n",
       "      <td>[проценты, проценты, два, два]</td>\n",
       "    </tr>\n",
       "    <tr>\n",
       "      <th>1107</th>\n",
       "      <td>здравствуйте NAME зовут бег я а можно соединит...</td>\n",
       "      <td>[235, 237, 239, 247]</td>\n",
       "      <td>[три, четыре, процентов, два]</td>\n",
       "    </tr>\n",
       "    <tr>\n",
       "      <th>1307</th>\n",
       "      <td>NAME еще раз свидали по поводу да смотрите мы ...</td>\n",
       "      <td>[160, 164, 362, 365, 415]</td>\n",
       "      <td>[семь, восемь, семь, про, семь]</td>\n",
       "    </tr>\n",
       "    <tr>\n",
       "      <th>1390</th>\n",
       "      <td>здравствуйте александрте мне пожалуйста я сейч...</td>\n",
       "      <td>[25, 41, 45, 108]</td>\n",
       "      <td>[три, три, четыре, три]</td>\n",
       "    </tr>\n",
       "    <tr>\n",
       "      <th>1605</th>\n",
       "      <td>да наталья меня зовут ээ я хотела спросить вот...</td>\n",
       "      <td>[21, 48, 83, 236]</td>\n",
       "      <td>[два, два, двухпроцентная, два]</td>\n",
       "    </tr>\n",
       "    <tr>\n",
       "      <th>1612</th>\n",
       "      <td>здравствуйте ADDRESS короче угу все юг или сев...</td>\n",
       "      <td>[118, 119, 208, 209]</td>\n",
       "      <td>[два, процента, два, процента]</td>\n",
       "    </tr>\n",
       "    <tr>\n",
       "      <th>1725</th>\n",
       "      <td>NAME мы только что с вами разговаривали от NAM...</td>\n",
       "      <td>[29, 30, 40, 50]</td>\n",
       "      <td>[в, два, четыре, два]</td>\n",
       "    </tr>\n",
       "    <tr>\n",
       "      <th>1910</th>\n",
       "      <td>здравствуйте ээ я агент меня интересует инжило...</td>\n",
       "      <td>[28, 29, 70, 73]</td>\n",
       "      <td>[до, десяти, два, пять]</td>\n",
       "    </tr>\n",
       "    <tr>\n",
       "      <th>1914</th>\n",
       "      <td>да хорошо зовут NAME зовут NAME я агент компан...</td>\n",
       "      <td>[255, 288, 289, 319]</td>\n",
       "      <td>[один, один, процент, два]</td>\n",
       "    </tr>\n",
       "    <tr>\n",
       "      <th>2366</th>\n",
       "      <td>а ия здравствуйте скажите пожалуйста я бы хоте...</td>\n",
       "      <td>[63, 91, 287, 288]</td>\n",
       "      <td>[два, два, два, процента]</td>\n",
       "    </tr>\n",
       "    <tr>\n",
       "      <th>2403</th>\n",
       "      <td>NAME подскажите пожалуйста пригород лесную ква...</td>\n",
       "      <td>[97, 109, 124, 132]</td>\n",
       "      <td>[пять, два, три, пять]</td>\n",
       "    </tr>\n",
       "    <tr>\n",
       "      <th>2422</th>\n",
       "      <td>по продажам фамильный парк по кладовому помеще...</td>\n",
       "      <td>[55, 161, 183, 246, 247, 253]</td>\n",
       "      <td>[триста, пятнадцать, пятнадцать, сто, процентн...</td>\n",
       "    </tr>\n",
       "    <tr>\n",
       "      <th>2427</th>\n",
       "      <td>NAME мне нужно наверное там рядом карточки вот...</td>\n",
       "      <td>[214, 365, 381, 392]</td>\n",
       "      <td>[три, два, два, два]</td>\n",
       "    </tr>\n",
       "    <tr>\n",
       "      <th>2552</th>\n",
       "      <td>а здравствуйте повел у меня к вам такой вопрос...</td>\n",
       "      <td>[299, 300, 301, 302, 303]</td>\n",
       "      <td>[от, одного, до, двух, процентов]</td>\n",
       "    </tr>\n",
       "    <tr>\n",
       "      <th>2588</th>\n",
       "      <td>да NAME пожалуйста сейчас я быстренько еще оди...</td>\n",
       "      <td>[17, 43, 57, 93]</td>\n",
       "      <td>[два, восемь, процентов, восемь]</td>\n",
       "    </tr>\n",
       "    <tr>\n",
       "      <th>3010</th>\n",
       "      <td>NAME добрый день меня NAME смотрите рассматрив...</td>\n",
       "      <td>[156, 157, 158, 315]</td>\n",
       "      <td>[в, два, процента, два]</td>\n",
       "    </tr>\n",
       "    <tr>\n",
       "      <th>3042</th>\n",
       "      <td>здравствуйте скажите что там сейчас подорожала...</td>\n",
       "      <td>[256, 324, 325, 327, 336]</td>\n",
       "      <td>[пятнадцать, порядка, двух, процентов, тысяч]</td>\n",
       "    </tr>\n",
       "    <tr>\n",
       "      <th>3045</th>\n",
       "      <td>здравствуйте NAME NAME студии данные сколько с...</td>\n",
       "      <td>[110, 129, 130, 131]</td>\n",
       "      <td>[до, до, пятнадцати, процентов]</td>\n",
       "    </tr>\n",
       "    <tr>\n",
       "      <th>3312</th>\n",
       "      <td>здравствуйте я NAME я сейчас с юлей разговарив...</td>\n",
       "      <td>[69, 134, 356, 358]</td>\n",
       "      <td>[пятнадцать, пятнадцать, до, процентов]</td>\n",
       "    </tr>\n",
       "    <tr>\n",
       "      <th>3341</th>\n",
       "      <td>NAME добрый день подскажите пожалуйста у вас п...</td>\n",
       "      <td>[69, 178, 208, 236]</td>\n",
       "      <td>[три, два, три, три]</td>\n",
       "    </tr>\n",
       "    <tr>\n",
       "      <th>3358</th>\n",
       "      <td>NAME добрый день я вот мне сейчас это вам пере...</td>\n",
       "      <td>[99, 101, 106, 291, 359, 361, 389]</td>\n",
       "      <td>[до, процентов, восемьдесят, три, до, проценто...</td>\n",
       "    </tr>\n",
       "  </tbody>\n",
       "</table>\n",
       "</div>"
      ],
      "text/plain": [
       "                                         processed_text  \\\n",
       "88    всем привет ни отвлекаю минутка будет скажи по...   \n",
       "125   у него здравствуйте скажите пожалуйста пожилом...   \n",
       "188   здравствуйте меня зовут NAME а я записана к ва...   \n",
       "555   алло там еще раз приветствует NAME компании уд...   \n",
       "561   здравствуйте NAME меня зовут NAME интересует т...   \n",
       "577   NAME добрый день а ина менеджер по продаже вам...   \n",
       "652   да здравствуйте наверное или таймера да потому...   \n",
       "707   NAME здравствуйте еще раз можете мне объяснить...   \n",
       "779   NAME по поводу меня соединили с вами по поводу...   \n",
       "815   NAME я живу подскажите пожалуйста вот мы смотр...   \n",
       "891   а меня зовут понял я не знаю сказали переведу ...   \n",
       "932   NAME добрый день подскажите пожалуйста у меня ...   \n",
       "966   знаешь просто мне эсэмэску отправили что с дол...   \n",
       "1053  да здравствуйте девушка меня зовут NAME а скин...   \n",
       "1065  здравствуйте я да меня зовут тимура смотрите я...   \n",
       "1107  здравствуйте NAME зовут бег я а можно соединит...   \n",
       "1307  NAME еще раз свидали по поводу да смотрите мы ...   \n",
       "1390  здравствуйте александрте мне пожалуйста я сейч...   \n",
       "1605  да наталья меня зовут ээ я хотела спросить вот...   \n",
       "1612  здравствуйте ADDRESS короче угу все юг или сев...   \n",
       "1725  NAME мы только что с вами разговаривали от NAM...   \n",
       "1910  здравствуйте ээ я агент меня интересует инжило...   \n",
       "1914  да хорошо зовут NAME зовут NAME я агент компан...   \n",
       "2366  а ия здравствуйте скажите пожалуйста я бы хоте...   \n",
       "2403  NAME подскажите пожалуйста пригород лесную ква...   \n",
       "2422  по продажам фамильный парк по кладовому помеще...   \n",
       "2427  NAME мне нужно наверное там рядом карточки вот...   \n",
       "2552  а здравствуйте повел у меня к вам такой вопрос...   \n",
       "2588  да NAME пожалуйста сейчас я быстренько еще оди...   \n",
       "3010  NAME добрый день меня NAME смотрите рассматрив...   \n",
       "3042  здравствуйте скажите что там сейчас подорожала...   \n",
       "3045  здравствуйте NAME NAME студии данные сколько с...   \n",
       "3312  здравствуйте я NAME я сейчас с юлей разговарив...   \n",
       "3341  NAME добрый день подскажите пожалуйста у вас п...   \n",
       "3358  NAME добрый день я вот мне сейчас это вам пере...   \n",
       "\n",
       "                                       B-value  \\\n",
       "88                      [38, 77, 84, 219, 225]   \n",
       "125   [105, 135, 187, 199, 213, 231, 246, 247]   \n",
       "188                [24, 38, 54, 117, 132, 144]   \n",
       "555                    [81, 86, 146, 148, 196]   \n",
       "561                       [317, 461, 466, 467]   \n",
       "577                        [60, 308, 310, 312]   \n",
       "652                       [118, 141, 144, 307]   \n",
       "707                       [308, 324, 325, 327]   \n",
       "779                       [278, 288, 399, 460]   \n",
       "815                       [260, 274, 276, 292]   \n",
       "891             [340, 366, 387, 395, 421, 422]   \n",
       "932                         [17, 50, 133, 142]   \n",
       "966                         [26, 28, 128, 237]   \n",
       "1053                       [55, 213, 220, 446]   \n",
       "1065                       [68, 256, 314, 466]   \n",
       "1107                      [235, 237, 239, 247]   \n",
       "1307                 [160, 164, 362, 365, 415]   \n",
       "1390                         [25, 41, 45, 108]   \n",
       "1605                         [21, 48, 83, 236]   \n",
       "1612                      [118, 119, 208, 209]   \n",
       "1725                          [29, 30, 40, 50]   \n",
       "1910                          [28, 29, 70, 73]   \n",
       "1914                      [255, 288, 289, 319]   \n",
       "2366                        [63, 91, 287, 288]   \n",
       "2403                       [97, 109, 124, 132]   \n",
       "2422             [55, 161, 183, 246, 247, 253]   \n",
       "2427                      [214, 365, 381, 392]   \n",
       "2552                 [299, 300, 301, 302, 303]   \n",
       "2588                          [17, 43, 57, 93]   \n",
       "3010                      [156, 157, 158, 315]   \n",
       "3042                 [256, 324, 325, 327, 336]   \n",
       "3045                      [110, 129, 130, 131]   \n",
       "3312                       [69, 134, 356, 358]   \n",
       "3341                       [69, 178, 208, 236]   \n",
       "3358        [99, 101, 106, 291, 359, 361, 389]   \n",
       "\n",
       "                                                    ans  \n",
       "88             [четыре, четыре, восемь, четыре, четыре]  \n",
       "125   [двестидобрый, два, три, три, три, два, три, п...  \n",
       "188                [два, четыре, два, два, четыре, два]  \n",
       "555              [пять, восемь, процентов, шесть, пять]  \n",
       "561                           [два, два, два, процента]  \n",
       "577                  [четыре, пять, девяносто, миллион]  \n",
       "652                                 [три, три, три, до]  \n",
       "707                   [один, около, пятнадцати, рублей]  \n",
       "779                                [два, два, два, два]  \n",
       "815                         [два, пять, процента, пять]  \n",
       "891             [до, один, продаж, один, два, процента]  \n",
       "932                 [восемь, восемь, восемь, девятьсот]  \n",
       "966                            [до, рублей, до, триста]  \n",
       "1053                               [два, два, два, два]  \n",
       "1065                     [проценты, проценты, два, два]  \n",
       "1107                      [три, четыре, процентов, два]  \n",
       "1307                    [семь, восемь, семь, про, семь]  \n",
       "1390                            [три, три, четыре, три]  \n",
       "1605                    [два, два, двухпроцентная, два]  \n",
       "1612                     [два, процента, два, процента]  \n",
       "1725                              [в, два, четыре, два]  \n",
       "1910                            [до, десяти, два, пять]  \n",
       "1914                         [один, один, процент, два]  \n",
       "2366                          [два, два, два, процента]  \n",
       "2403                             [пять, два, три, пять]  \n",
       "2422  [триста, пятнадцать, пятнадцать, сто, процентн...  \n",
       "2427                               [три, два, два, два]  \n",
       "2552                  [от, одного, до, двух, процентов]  \n",
       "2588                   [два, восемь, процентов, восемь]  \n",
       "3010                            [в, два, процента, два]  \n",
       "3042      [пятнадцать, порядка, двух, процентов, тысяч]  \n",
       "3045                    [до, до, пятнадцати, процентов]  \n",
       "3312            [пятнадцать, пятнадцать, до, процентов]  \n",
       "3341                               [три, два, три, три]  \n",
       "3358  [до, процентов, восемьдесят, три, до, проценто...  "
      ]
     },
     "execution_count": 29,
     "metadata": {},
     "output_type": "execute_result"
    }
   ],
   "source": [
    "b_val[b_val['ans'].apply(lambda x: len(x)) > 3]"
   ]
  },
  {
   "cell_type": "code",
   "execution_count": 30,
   "id": "929dd02c-c7e5-4452-85b8-0e2592624147",
   "metadata": {},
   "outputs": [],
   "source": [
    "from collections import defaultdict\n",
    "from nltk.stem import SnowballStemmer\n",
    "\n",
    "d = defaultdict(int)\n",
    "ss = SnowballStemmer(language='russian')\n",
    "for list_words in list(b_val['ans'].values):\n",
    "    for word in list_words:\n",
    "        word = ss.stem(word.lower())\n",
    "        d[word] += 1"
   ]
  },
  {
   "cell_type": "markdown",
   "id": "f49c0759-5957-4c62-815d-f6c26746c6e0",
   "metadata": {},
   "source": [
    "Most popular words in B-value:"
   ]
  },
  {
   "cell_type": "code",
   "execution_count": 31,
   "id": "da8f7358-e6fc-4639-b407-2abe92a6adec",
   "metadata": {},
   "outputs": [
    {
     "data": {
      "text/plain": [
       "[('два', 403),\n",
       " ('один', 133),\n",
       " ('процент', 108),\n",
       " ('три', 67),\n",
       " ('восем', 56),\n",
       " ('пятнадца', 41),\n",
       " ('четыр', 39),\n",
       " ('до', 36),\n",
       " ('пят', 34),\n",
       " ('в', 32)]"
      ]
     },
     "execution_count": 31,
     "metadata": {},
     "output_type": "execute_result"
    }
   ],
   "source": [
    "sorted(d.items(), key=lambda k_v: k_v[1], reverse=True)[:10]"
   ]
  },
  {
   "cell_type": "markdown",
   "id": "3eb07ab8-0463-4bd1-a7e0-8bf3e5364cc4",
   "metadata": {},
   "source": [
    "### B-discount"
   ]
  },
  {
   "cell_type": "code",
   "execution_count": 32,
   "id": "d228fac9-1967-4ec4-902c-0ec731926ee4",
   "metadata": {},
   "outputs": [],
   "source": [
    "d_val = df[['processed_text','B-discount']].dropna()"
   ]
  },
  {
   "cell_type": "code",
   "execution_count": 33,
   "id": "874224c9-caaa-49b5-9c7d-b6f6fcd2aeda",
   "metadata": {},
   "outputs": [
    {
     "data": {
      "text/plain": [
       "882"
      ]
     },
     "execution_count": 33,
     "metadata": {},
     "output_type": "execute_result"
    }
   ],
   "source": [
    "d_val.shape[0]"
   ]
  },
  {
   "cell_type": "markdown",
   "id": "57fa7f15-140b-41f5-9d03-937c7c7afe2a",
   "metadata": {},
   "source": [
    "493 (674) not empty B-discount"
   ]
  },
  {
   "cell_type": "code",
   "execution_count": 34,
   "id": "56435ea0-3b77-4f19-a91f-6c45a950851b",
   "metadata": {},
   "outputs": [],
   "source": [
    "d_val['ans'] = d_val.apply(lambda x: [i for idx,i in enumerate(x['processed_text'].split()) if idx in x['B-discount']], axis=1)"
   ]
  },
  {
   "cell_type": "code",
   "execution_count": 35,
   "id": "b6e3376a-bd33-4bf8-91c0-b56939f0c278",
   "metadata": {},
   "outputs": [
    {
     "data": {
      "text/plain": [
       "1     594\n",
       "2     183\n",
       "3      57\n",
       "4      31\n",
       "5       8\n",
       "6       5\n",
       "7       3\n",
       "14      1\n",
       "Name: ans, dtype: int64"
      ]
     },
     "execution_count": 35,
     "metadata": {},
     "output_type": "execute_result"
    }
   ],
   "source": [
    "d_val['ans'].apply(lambda x: len(x)).value_counts().sort_index()"
   ]
  },
  {
   "cell_type": "markdown",
   "id": "f231ea9d-90f1-4049-8746-dec880f8340a",
   "metadata": {},
   "source": [
    "almost all data has 1-2 indexes of B-discount - maximum 6"
   ]
  },
  {
   "cell_type": "code",
   "execution_count": 36,
   "id": "115283ce-5b5e-491c-9ad9-3ab2666de540",
   "metadata": {},
   "outputs": [
    {
     "data": {
      "text/html": [
       "<div>\n",
       "<style scoped>\n",
       "    .dataframe tbody tr th:only-of-type {\n",
       "        vertical-align: middle;\n",
       "    }\n",
       "\n",
       "    .dataframe tbody tr th {\n",
       "        vertical-align: top;\n",
       "    }\n",
       "\n",
       "    .dataframe thead th {\n",
       "        text-align: right;\n",
       "    }\n",
       "</style>\n",
       "<table border=\"1\" class=\"dataframe\">\n",
       "  <thead>\n",
       "    <tr style=\"text-align: right;\">\n",
       "      <th></th>\n",
       "      <th>processed_text</th>\n",
       "      <th>B-discount</th>\n",
       "      <th>ans</th>\n",
       "    </tr>\n",
       "  </thead>\n",
       "  <tbody>\n",
       "    <tr>\n",
       "      <th>88</th>\n",
       "      <td>всем привет ни отвлекаю минутка будет скажи по...</td>\n",
       "      <td>[37, 81, 218, 224]</td>\n",
       "      <td>[скидкой, скидка, скидку, скидку]</td>\n",
       "    </tr>\n",
       "    <tr>\n",
       "      <th>117</th>\n",
       "      <td>NAME добрый день у вас прям дом тоетов да не д...</td>\n",
       "      <td>[308, 310, 410, 421]</td>\n",
       "      <td>[скидку, скидку, скидка, скидку]</td>\n",
       "    </tr>\n",
       "    <tr>\n",
       "      <th>125</th>\n",
       "      <td>у него здравствуйте скажите пожалуйста пожилом...</td>\n",
       "      <td>[99, 119, 129, 163, 182, 192, 215, 227, 235, 2...</td>\n",
       "      <td>[скидка, скидки, скидка, скидка, скидка, скидк...</td>\n",
       "    </tr>\n",
       "    <tr>\n",
       "      <th>188</th>\n",
       "      <td>здравствуйте меня зовут NAME а я записана к ва...</td>\n",
       "      <td>[23, 40, 46, 116, 131, 139]</td>\n",
       "      <td>[скидку, скидка, скидки, скидку, скидка, скидки]</td>\n",
       "    </tr>\n",
       "    <tr>\n",
       "      <th>218</th>\n",
       "      <td>добрый день интересует квартира евродву что в ...</td>\n",
       "      <td>[231, 354, 372, 380]</td>\n",
       "      <td>[скидка, скидкам, скидки, скидкам]</td>\n",
       "    </tr>\n",
       "    <tr>\n",
       "      <th>320</th>\n",
       "      <td>спасибо добрый день пожалуйста скажите пожалуй...</td>\n",
       "      <td>[228, 235, 238, 255]</td>\n",
       "      <td>[скидку, скидка, скидка, скидку]</td>\n",
       "    </tr>\n",
       "    <tr>\n",
       "      <th>423</th>\n",
       "      <td>здравствуйте NAME смотрела квартира в этом NAM...</td>\n",
       "      <td>[144, 180, 376, 403]</td>\n",
       "      <td>[скидки, скидки, скидки, скидка]</td>\n",
       "    </tr>\n",
       "    <tr>\n",
       "      <th>432</th>\n",
       "      <td>NAME это NAME порвалась я в другой телефон зво...</td>\n",
       "      <td>[205, 220, 272, 381]</td>\n",
       "      <td>[скидка, скидка, скидка, скидку]</td>\n",
       "    </tr>\n",
       "    <tr>\n",
       "      <th>449</th>\n",
       "      <td>NAME есть вчера а мне пока сторон продали и ну...</td>\n",
       "      <td>[60, 68, 135, 148]</td>\n",
       "      <td>[кидка, скидка, скидки, скидка]</td>\n",
       "    </tr>\n",
       "    <tr>\n",
       "      <th>472</th>\n",
       "      <td>меня интересует парела пар меня зовут воль дил...</td>\n",
       "      <td>[76, 153, 217, 257, 278, 398]</td>\n",
       "      <td>[скидки, скидки, скидки, скидки, скидки, скидку]</td>\n",
       "    </tr>\n",
       "    <tr>\n",
       "      <th>501</th>\n",
       "      <td>здравствуйте мне зарадно я хотела у вас уточни...</td>\n",
       "      <td>[15, 20, 60, 139]</td>\n",
       "      <td>[скидки, скидка, скидка, скидка]</td>\n",
       "    </tr>\n",
       "    <tr>\n",
       "      <th>555</th>\n",
       "      <td>алло там еще раз приветствует NAME компании уд...</td>\n",
       "      <td>[58, 71, 140, 147, 189, 192]</td>\n",
       "      <td>[скидка, скидку, скидку, скидка, скидка, скидка]</td>\n",
       "    </tr>\n",
       "    <tr>\n",
       "      <th>577</th>\n",
       "      <td>NAME добрый день а ина менеджер по продаже вам...</td>\n",
       "      <td>[55, 82, 252, 306]</td>\n",
       "      <td>[скидку, скидкой, скидку, скидка]</td>\n",
       "    </tr>\n",
       "    <tr>\n",
       "      <th>652</th>\n",
       "      <td>да здравствуйте наверное или таймера да потому...</td>\n",
       "      <td>[120, 140, 146, 302]</td>\n",
       "      <td>[скидка, скидка, скидка, скидка]</td>\n",
       "    </tr>\n",
       "    <tr>\n",
       "      <th>779</th>\n",
       "      <td>NAME по поводу меня соединили с вами по поводу...</td>\n",
       "      <td>[277, 286, 398, 412, 414, 458, 459]</td>\n",
       "      <td>[скидка, скидку, скидкой, скидкой, скидка, ски...</td>\n",
       "    </tr>\n",
       "    <tr>\n",
       "      <th>803</th>\n",
       "      <td>восемь процентов стоимость аустер а скидка про...</td>\n",
       "      <td>[5, 8, 45, 50]</td>\n",
       "      <td>[скидка, скидка, скидку, скидка]</td>\n",
       "    </tr>\n",
       "    <tr>\n",
       "      <th>815</th>\n",
       "      <td>NAME я живу подскажите пожалуйста вот мы смотр...</td>\n",
       "      <td>[262, 277, 291, 294]</td>\n",
       "      <td>[скидки, скидка, скидка, скидка]</td>\n",
       "    </tr>\n",
       "    <tr>\n",
       "      <th>891</th>\n",
       "      <td>а меня зовут понял я не знаю сказали переведу ...</td>\n",
       "      <td>[343, 365, 394, 420]</td>\n",
       "      <td>[скидка, скидку, скидка, скидка]</td>\n",
       "    </tr>\n",
       "    <tr>\n",
       "      <th>916</th>\n",
       "      <td>NAME NAME уточнить кое какие вопросы мы хотим ...</td>\n",
       "      <td>[34, 53, 148, 174, 260, 262, 407]</td>\n",
       "      <td>[скидки, скидку, скидку, скидку, скидка, скидк...</td>\n",
       "    </tr>\n",
       "    <tr>\n",
       "      <th>929</th>\n",
       "      <td>NAME я что то на сайте уже не вижу вариантов к...</td>\n",
       "      <td>[146, 292, 306, 312]</td>\n",
       "      <td>[скидку, скидка, скидку, скидку]</td>\n",
       "    </tr>\n",
       "    <tr>\n",
       "      <th>932</th>\n",
       "      <td>NAME добрый день подскажите пожалуйста у меня ...</td>\n",
       "      <td>[16, 39, 42, 130, 140]</td>\n",
       "      <td>[скидки, скидки, скидка, скидкой, скидки]</td>\n",
       "    </tr>\n",
       "    <tr>\n",
       "      <th>1053</th>\n",
       "      <td>да здравствуйте девушка меня зовут NAME а скин...</td>\n",
       "      <td>[57, 211, 219, 445]</td>\n",
       "      <td>[скидки, скидку, скидка, скидку]</td>\n",
       "    </tr>\n",
       "    <tr>\n",
       "      <th>1065</th>\n",
       "      <td>здравствуйте я да меня зовут тимура смотрите я...</td>\n",
       "      <td>[58, 261, 308, 320, 468, 469]</td>\n",
       "      <td>[скидку, скидки, скидку, скидки, скидку, а]</td>\n",
       "    </tr>\n",
       "    <tr>\n",
       "      <th>1112</th>\n",
       "      <td>это всего это я григоризал на жекану я понял я...</td>\n",
       "      <td>[241, 274, 352, 355]</td>\n",
       "      <td>[скидку, скидка, скидку, скидка]</td>\n",
       "    </tr>\n",
       "    <tr>\n",
       "      <th>1605</th>\n",
       "      <td>да наталья меня зовут ээ я хотела спросить вот...</td>\n",
       "      <td>[20, 47, 84, 235]</td>\n",
       "      <td>[скидка, скидка, скидка, скидка]</td>\n",
       "    </tr>\n",
       "    <tr>\n",
       "      <th>1616</th>\n",
       "      <td>здравствуйте меня зовут NAME взаимно меня инте...</td>\n",
       "      <td>[191, 352, 369, 379]</td>\n",
       "      <td>[скидку, скидку, скидка, скидку]</td>\n",
       "    </tr>\n",
       "    <tr>\n",
       "      <th>1867</th>\n",
       "      <td>здравствуйте меня зовут раша менеджер компании...</td>\n",
       "      <td>[87, 184, 248, 263]</td>\n",
       "      <td>[скидку, скидка, скидке, скидки]</td>\n",
       "    </tr>\n",
       "    <tr>\n",
       "      <th>1910</th>\n",
       "      <td>здравствуйте ээ я агент меня интересует инжило...</td>\n",
       "      <td>[15, 69, 139, 216]</td>\n",
       "      <td>[скидки, скидка, скидку, скидка]</td>\n",
       "    </tr>\n",
       "    <tr>\n",
       "      <th>1914</th>\n",
       "      <td>да хорошо зовут NAME зовут NAME я агент компан...</td>\n",
       "      <td>[254, 276, 290, 313]</td>\n",
       "      <td>[скидку, скидку, скидки, скидка]</td>\n",
       "    </tr>\n",
       "    <tr>\n",
       "      <th>1970</th>\n",
       "      <td>здравствуйте я ранее интересовала с покупкой с...</td>\n",
       "      <td>[56, 143, 236, 250, 399]</td>\n",
       "      <td>[скидка, скидка, скидки, скит, скидки]</td>\n",
       "    </tr>\n",
       "    <tr>\n",
       "      <th>2004</th>\n",
       "      <td>NAME добрый день подскажите пожалуйста вы непо...</td>\n",
       "      <td>[22, 145, 159, 200]</td>\n",
       "      <td>[скидки, скидку, скидку, скидкой]</td>\n",
       "    </tr>\n",
       "    <tr>\n",
       "      <th>2047</th>\n",
       "      <td>астасия здравствуйте у меня зовут NAME мне при...</td>\n",
       "      <td>[21, 164, 182, 427]</td>\n",
       "      <td>[скидка, скидки, скидка, скидку]</td>\n",
       "    </tr>\n",
       "    <tr>\n",
       "      <th>2183</th>\n",
       "      <td>NAME извиняешься дерга ну я же делал сделку по...</td>\n",
       "      <td>[20, 214, 257, 264]</td>\n",
       "      <td>[скидка, скидкой, скидка, скидка]</td>\n",
       "    </tr>\n",
       "    <tr>\n",
       "      <th>2312</th>\n",
       "      <td>здравствуйте это мм меня интересует объект или...</td>\n",
       "      <td>[50, 116, 153, 191, 227, 351, 396]</td>\n",
       "      <td>[скидки, скидку, скидку, скидку, скидкой, скид...</td>\n",
       "    </tr>\n",
       "    <tr>\n",
       "      <th>2403</th>\n",
       "      <td>NAME подскажите пожалуйста пригород лесную ква...</td>\n",
       "      <td>[96, 114, 128, 142, 170]</td>\n",
       "      <td>[скидка, скидку, скидку, скидка, скидки]</td>\n",
       "    </tr>\n",
       "    <tr>\n",
       "      <th>2422</th>\n",
       "      <td>по продажам фамильный парк по кладовому помеще...</td>\n",
       "      <td>[48, 163, 177, 182, 245]</td>\n",
       "      <td>[скидка, скидка, скидка, скидка, скидки]</td>\n",
       "    </tr>\n",
       "    <tr>\n",
       "      <th>2427</th>\n",
       "      <td>NAME мне нужно наверное там рядом карточки вот...</td>\n",
       "      <td>[213, 364, 380, 389, 391]</td>\n",
       "      <td>[скидку, скидка, скидка, скидки, скидка]</td>\n",
       "    </tr>\n",
       "    <tr>\n",
       "      <th>2431</th>\n",
       "      <td>нет нет не отвлекайте ну я же вам уже сказала ...</td>\n",
       "      <td>[46, 47, 56, 77, 217]</td>\n",
       "      <td>[скидку, скидку, скидку, скидка, скидку]</td>\n",
       "    </tr>\n",
       "    <tr>\n",
       "      <th>2461</th>\n",
       "      <td>вечер добрый аа можно этот показать квартиру н...</td>\n",
       "      <td>[28, 34, 192, 202]</td>\n",
       "      <td>[скидку, скидка, скидка, скидка]</td>\n",
       "    </tr>\n",
       "    <tr>\n",
       "      <th>2462</th>\n",
       "      <td>а вот здравствуйте вызвонить первый какие у ва...</td>\n",
       "      <td>[208, 307, 310, 323, 328, 357]</td>\n",
       "      <td>[скидка, скидкой, скидка, скидка, скидка, скидки]</td>\n",
       "    </tr>\n",
       "    <tr>\n",
       "      <th>2588</th>\n",
       "      <td>да NAME пожалуйста сейчас я быстренько еще оди...</td>\n",
       "      <td>[12, 47, 91, 132]</td>\n",
       "      <td>[скидка, скидок, скидку, скидок]</td>\n",
       "    </tr>\n",
       "    <tr>\n",
       "      <th>2616</th>\n",
       "      <td>NAME добрый день меня зовут хотела уточнить на...</td>\n",
       "      <td>[14, 313, 322, 344]</td>\n",
       "      <td>[скидки, скидка, скидка, скидку]</td>\n",
       "    </tr>\n",
       "    <tr>\n",
       "      <th>2963</th>\n",
       "      <td>NAME NAME а вы работаете еще а вот подскажите ...</td>\n",
       "      <td>[167, 269, 421, 479]</td>\n",
       "      <td>[скидку, скидку, скидки, скидка]</td>\n",
       "    </tr>\n",
       "    <tr>\n",
       "      <th>3042</th>\n",
       "      <td>здравствуйте скажите что там сейчас подорожала...</td>\n",
       "      <td>[82, 273, 320, 339]</td>\n",
       "      <td>[скидка, скидка, скидку, скидка]</td>\n",
       "    </tr>\n",
       "    <tr>\n",
       "      <th>3045</th>\n",
       "      <td>здравствуйте NAME NAME студии данные сколько с...</td>\n",
       "      <td>[102, 109, 124, 125]</td>\n",
       "      <td>[скидки, скидки, ски, скидки]</td>\n",
       "    </tr>\n",
       "    <tr>\n",
       "      <th>3312</th>\n",
       "      <td>здравствуйте я NAME я сейчас с юлей разговарив...</td>\n",
       "      <td>[71, 115, 120, 355]</td>\n",
       "      <td>[ски, скидка, скидка, скидкой]</td>\n",
       "    </tr>\n",
       "    <tr>\n",
       "      <th>3341</th>\n",
       "      <td>NAME добрый день подскажите пожалуйста у вас п...</td>\n",
       "      <td>[118, 170, 180, 212, 239]</td>\n",
       "      <td>[скидки, скидка, скидки, скидки, скидку]</td>\n",
       "    </tr>\n",
       "    <tr>\n",
       "      <th>3358</th>\n",
       "      <td>NAME добрый день я вот мне сейчас это вам пере...</td>\n",
       "      <td>[98, 287, 358, 372, 388]</td>\n",
       "      <td>[скидки, скидка, скидки, скидку, скидка]</td>\n",
       "    </tr>\n",
       "  </tbody>\n",
       "</table>\n",
       "</div>"
      ],
      "text/plain": [
       "                                         processed_text  \\\n",
       "88    всем привет ни отвлекаю минутка будет скажи по...   \n",
       "117   NAME добрый день у вас прям дом тоетов да не д...   \n",
       "125   у него здравствуйте скажите пожалуйста пожилом...   \n",
       "188   здравствуйте меня зовут NAME а я записана к ва...   \n",
       "218   добрый день интересует квартира евродву что в ...   \n",
       "320   спасибо добрый день пожалуйста скажите пожалуй...   \n",
       "423   здравствуйте NAME смотрела квартира в этом NAM...   \n",
       "432   NAME это NAME порвалась я в другой телефон зво...   \n",
       "449   NAME есть вчера а мне пока сторон продали и ну...   \n",
       "472   меня интересует парела пар меня зовут воль дил...   \n",
       "501   здравствуйте мне зарадно я хотела у вас уточни...   \n",
       "555   алло там еще раз приветствует NAME компании уд...   \n",
       "577   NAME добрый день а ина менеджер по продаже вам...   \n",
       "652   да здравствуйте наверное или таймера да потому...   \n",
       "779   NAME по поводу меня соединили с вами по поводу...   \n",
       "803   восемь процентов стоимость аустер а скидка про...   \n",
       "815   NAME я живу подскажите пожалуйста вот мы смотр...   \n",
       "891   а меня зовут понял я не знаю сказали переведу ...   \n",
       "916   NAME NAME уточнить кое какие вопросы мы хотим ...   \n",
       "929   NAME я что то на сайте уже не вижу вариантов к...   \n",
       "932   NAME добрый день подскажите пожалуйста у меня ...   \n",
       "1053  да здравствуйте девушка меня зовут NAME а скин...   \n",
       "1065  здравствуйте я да меня зовут тимура смотрите я...   \n",
       "1112  это всего это я григоризал на жекану я понял я...   \n",
       "1605  да наталья меня зовут ээ я хотела спросить вот...   \n",
       "1616  здравствуйте меня зовут NAME взаимно меня инте...   \n",
       "1867  здравствуйте меня зовут раша менеджер компании...   \n",
       "1910  здравствуйте ээ я агент меня интересует инжило...   \n",
       "1914  да хорошо зовут NAME зовут NAME я агент компан...   \n",
       "1970  здравствуйте я ранее интересовала с покупкой с...   \n",
       "2004  NAME добрый день подскажите пожалуйста вы непо...   \n",
       "2047  астасия здравствуйте у меня зовут NAME мне при...   \n",
       "2183  NAME извиняешься дерга ну я же делал сделку по...   \n",
       "2312  здравствуйте это мм меня интересует объект или...   \n",
       "2403  NAME подскажите пожалуйста пригород лесную ква...   \n",
       "2422  по продажам фамильный парк по кладовому помеще...   \n",
       "2427  NAME мне нужно наверное там рядом карточки вот...   \n",
       "2431  нет нет не отвлекайте ну я же вам уже сказала ...   \n",
       "2461  вечер добрый аа можно этот показать квартиру н...   \n",
       "2462  а вот здравствуйте вызвонить первый какие у ва...   \n",
       "2588  да NAME пожалуйста сейчас я быстренько еще оди...   \n",
       "2616  NAME добрый день меня зовут хотела уточнить на...   \n",
       "2963  NAME NAME а вы работаете еще а вот подскажите ...   \n",
       "3042  здравствуйте скажите что там сейчас подорожала...   \n",
       "3045  здравствуйте NAME NAME студии данные сколько с...   \n",
       "3312  здравствуйте я NAME я сейчас с юлей разговарив...   \n",
       "3341  NAME добрый день подскажите пожалуйста у вас п...   \n",
       "3358  NAME добрый день я вот мне сейчас это вам пере...   \n",
       "\n",
       "                                             B-discount  \\\n",
       "88                                   [37, 81, 218, 224]   \n",
       "117                                [308, 310, 410, 421]   \n",
       "125   [99, 119, 129, 163, 182, 192, 215, 227, 235, 2...   \n",
       "188                         [23, 40, 46, 116, 131, 139]   \n",
       "218                                [231, 354, 372, 380]   \n",
       "320                                [228, 235, 238, 255]   \n",
       "423                                [144, 180, 376, 403]   \n",
       "432                                [205, 220, 272, 381]   \n",
       "449                                  [60, 68, 135, 148]   \n",
       "472                       [76, 153, 217, 257, 278, 398]   \n",
       "501                                   [15, 20, 60, 139]   \n",
       "555                        [58, 71, 140, 147, 189, 192]   \n",
       "577                                  [55, 82, 252, 306]   \n",
       "652                                [120, 140, 146, 302]   \n",
       "779                 [277, 286, 398, 412, 414, 458, 459]   \n",
       "803                                      [5, 8, 45, 50]   \n",
       "815                                [262, 277, 291, 294]   \n",
       "891                                [343, 365, 394, 420]   \n",
       "916                   [34, 53, 148, 174, 260, 262, 407]   \n",
       "929                                [146, 292, 306, 312]   \n",
       "932                              [16, 39, 42, 130, 140]   \n",
       "1053                                [57, 211, 219, 445]   \n",
       "1065                      [58, 261, 308, 320, 468, 469]   \n",
       "1112                               [241, 274, 352, 355]   \n",
       "1605                                  [20, 47, 84, 235]   \n",
       "1616                               [191, 352, 369, 379]   \n",
       "1867                                [87, 184, 248, 263]   \n",
       "1910                                 [15, 69, 139, 216]   \n",
       "1914                               [254, 276, 290, 313]   \n",
       "1970                           [56, 143, 236, 250, 399]   \n",
       "2004                                [22, 145, 159, 200]   \n",
       "2047                                [21, 164, 182, 427]   \n",
       "2183                                [20, 214, 257, 264]   \n",
       "2312                 [50, 116, 153, 191, 227, 351, 396]   \n",
       "2403                           [96, 114, 128, 142, 170]   \n",
       "2422                           [48, 163, 177, 182, 245]   \n",
       "2427                          [213, 364, 380, 389, 391]   \n",
       "2431                              [46, 47, 56, 77, 217]   \n",
       "2461                                 [28, 34, 192, 202]   \n",
       "2462                     [208, 307, 310, 323, 328, 357]   \n",
       "2588                                  [12, 47, 91, 132]   \n",
       "2616                                [14, 313, 322, 344]   \n",
       "2963                               [167, 269, 421, 479]   \n",
       "3042                                [82, 273, 320, 339]   \n",
       "3045                               [102, 109, 124, 125]   \n",
       "3312                                [71, 115, 120, 355]   \n",
       "3341                          [118, 170, 180, 212, 239]   \n",
       "3358                           [98, 287, 358, 372, 388]   \n",
       "\n",
       "                                                    ans  \n",
       "88                    [скидкой, скидка, скидку, скидку]  \n",
       "117                    [скидку, скидку, скидка, скидку]  \n",
       "125   [скидка, скидки, скидка, скидка, скидка, скидк...  \n",
       "188    [скидку, скидка, скидки, скидку, скидка, скидки]  \n",
       "218                  [скидка, скидкам, скидки, скидкам]  \n",
       "320                    [скидку, скидка, скидка, скидку]  \n",
       "423                    [скидки, скидки, скидки, скидка]  \n",
       "432                    [скидка, скидка, скидка, скидку]  \n",
       "449                     [кидка, скидка, скидки, скидка]  \n",
       "472    [скидки, скидки, скидки, скидки, скидки, скидку]  \n",
       "501                    [скидки, скидка, скидка, скидка]  \n",
       "555    [скидка, скидку, скидку, скидка, скидка, скидка]  \n",
       "577                   [скидку, скидкой, скидку, скидка]  \n",
       "652                    [скидка, скидка, скидка, скидка]  \n",
       "779   [скидка, скидку, скидкой, скидкой, скидка, ски...  \n",
       "803                    [скидка, скидка, скидку, скидка]  \n",
       "815                    [скидки, скидка, скидка, скидка]  \n",
       "891                    [скидка, скидку, скидка, скидка]  \n",
       "916   [скидки, скидку, скидку, скидку, скидка, скидк...  \n",
       "929                    [скидку, скидка, скидку, скидку]  \n",
       "932           [скидки, скидки, скидка, скидкой, скидки]  \n",
       "1053                   [скидки, скидку, скидка, скидку]  \n",
       "1065        [скидку, скидки, скидку, скидки, скидку, а]  \n",
       "1112                   [скидку, скидка, скидку, скидка]  \n",
       "1605                   [скидка, скидка, скидка, скидка]  \n",
       "1616                   [скидку, скидку, скидка, скидку]  \n",
       "1867                   [скидку, скидка, скидке, скидки]  \n",
       "1910                   [скидки, скидка, скидку, скидка]  \n",
       "1914                   [скидку, скидку, скидки, скидка]  \n",
       "1970             [скидка, скидка, скидки, скит, скидки]  \n",
       "2004                  [скидки, скидку, скидку, скидкой]  \n",
       "2047                   [скидка, скидки, скидка, скидку]  \n",
       "2183                  [скидка, скидкой, скидка, скидка]  \n",
       "2312  [скидки, скидку, скидку, скидку, скидкой, скид...  \n",
       "2403           [скидка, скидку, скидку, скидка, скидки]  \n",
       "2422           [скидка, скидка, скидка, скидка, скидки]  \n",
       "2427           [скидку, скидка, скидка, скидки, скидка]  \n",
       "2431           [скидку, скидку, скидку, скидка, скидку]  \n",
       "2461                   [скидку, скидка, скидка, скидка]  \n",
       "2462  [скидка, скидкой, скидка, скидка, скидка, скидки]  \n",
       "2588                   [скидка, скидок, скидку, скидок]  \n",
       "2616                   [скидки, скидка, скидка, скидку]  \n",
       "2963                   [скидку, скидку, скидки, скидка]  \n",
       "3042                   [скидка, скидка, скидку, скидка]  \n",
       "3045                      [скидки, скидки, ски, скидки]  \n",
       "3312                     [ски, скидка, скидка, скидкой]  \n",
       "3341           [скидки, скидка, скидки, скидки, скидку]  \n",
       "3358           [скидки, скидка, скидки, скидку, скидка]  "
      ]
     },
     "execution_count": 36,
     "metadata": {},
     "output_type": "execute_result"
    }
   ],
   "source": [
    "d_val[d_val['ans'].apply(lambda x: len(x)) > 3]"
   ]
  },
  {
   "cell_type": "code",
   "execution_count": 37,
   "id": "80974fac-11ce-43f9-9bec-a34c1c652fd8",
   "metadata": {},
   "outputs": [],
   "source": [
    "from collections import defaultdict\n",
    "from nltk.stem import SnowballStemmer\n",
    "\n",
    "d = defaultdict(int)\n",
    "ss = SnowballStemmer(language='russian')\n",
    "for list_words in list(d_val['ans'].values):\n",
    "    for word in list_words:\n",
    "        word = ss.stem(word.lower())\n",
    "        d[word] += 1"
   ]
  },
  {
   "cell_type": "markdown",
   "id": "47e80ada-f9fc-4274-9f74-dd39cf2c7e12",
   "metadata": {},
   "source": [
    "Most popular words in B-discount:"
   ]
  },
  {
   "cell_type": "code",
   "execution_count": 38,
   "id": "f9629745-2805-46ee-b245-4d5e4aa3f535",
   "metadata": {},
   "outputs": [
    {
     "data": {
      "text/plain": [
       "[('скидк', 1319),\n",
       " ('скидок', 8),\n",
       " ('скид', 7),\n",
       " ('скидочк', 6),\n",
       " ('ски', 4),\n",
       " ('кидк', 2),\n",
       " ('скит', 2),\n",
       " ('скитот', 1),\n",
       " ('скип', 1),\n",
       " ('сестк', 1),\n",
       " ('скидочн', 1),\n",
       " ('скидтор', 1),\n",
       " ('а', 1),\n",
       " ('скитк', 1),\n",
       " ('откидк', 1),\n",
       " ('по', 1),\n",
       " ('подкиск', 1),\n",
       " ('вкидк', 1),\n",
       " ('в', 1)]"
      ]
     },
     "execution_count": 38,
     "metadata": {},
     "output_type": "execute_result"
    }
   ],
   "source": [
    "sorted(d.items(), key=lambda k_v: k_v[1], reverse=True)[:20]"
   ]
  },
  {
   "cell_type": "code",
   "execution_count": 39,
   "id": "7766ac14",
   "metadata": {},
   "outputs": [
    {
     "name": "stdout",
     "output_type": "stream",
     "text": [
      "<class 'pandas.core.frame.DataFrame'>\n",
      "RangeIndex: 3399 entries, 0 to 3398\n",
      "Data columns (total 13 columns):\n",
      " #   Column                   Non-Null Count  Dtype  \n",
      "---  ------                   --------------  -----  \n",
      " 0   processed_text           3399 non-null   object \n",
      " 1   target_labels_positions  3399 non-null   object \n",
      " 2   I-value                  690 non-null    object \n",
      " 3   B-value                  737 non-null    object \n",
      " 4   B-discount               882 non-null    object \n",
      " 5   I-value_max              690 non-null    float64\n",
      " 6   B-value_max              737 non-null    float64\n",
      " 7   B-discount_max           882 non-null    float64\n",
      " 8   I-value_min              690 non-null    float64\n",
      " 9   B-value_min              737 non-null    float64\n",
      " 10  B-discount_min           882 non-null    float64\n",
      " 11  max                      886 non-null    float64\n",
      " 12  min                      886 non-null    float64\n",
      "dtypes: float64(8), object(5)\n",
      "memory usage: 345.3+ KB\n"
     ]
    }
   ],
   "source": [
    "df.info()"
   ]
  },
  {
   "cell_type": "code",
   "execution_count": 40,
   "id": "d6901a7f",
   "metadata": {},
   "outputs": [],
   "source": [
    "df['count_words'] = df.processed_text.map(lambda x: len(x.split()))"
   ]
  },
  {
   "cell_type": "code",
   "execution_count": 41,
   "id": "7df9d57b",
   "metadata": {},
   "outputs": [
    {
     "data": {
      "text/plain": [
       "31     23\n",
       "59     16\n",
       "29     16\n",
       "99     16\n",
       "439    15\n",
       "       ..\n",
       "281     1\n",
       "14      1\n",
       "475     1\n",
       "16      1\n",
       "410     1\n",
       "Name: count_words, Length: 497, dtype: int64"
      ]
     },
     "execution_count": 41,
     "metadata": {},
     "output_type": "execute_result"
    }
   ],
   "source": [
    "df['count_words'].value_counts()"
   ]
  },
  {
   "cell_type": "code",
   "execution_count": 42,
   "id": "ade450cf",
   "metadata": {},
   "outputs": [
    {
     "data": {
      "text/plain": [
       "count    3399.000000\n",
       "mean      239.065019\n",
       "std       140.488001\n",
       "min         1.000000\n",
       "25%       115.000000\n",
       "50%       229.000000\n",
       "75%       358.000000\n",
       "max       499.000000\n",
       "Name: count_words, dtype: float64"
      ]
     },
     "execution_count": 42,
     "metadata": {},
     "output_type": "execute_result"
    }
   ],
   "source": [
    "df['count_words'].describe()"
   ]
  },
  {
   "cell_type": "code",
   "execution_count": 3,
   "id": "f313be1b",
   "metadata": {},
   "outputs": [
    {
     "name": "stdout",
     "output_type": "stream",
     "text": [
      "1.3.0 1.23.5 0.111.0\n"
     ]
    }
   ],
   "source": [
    "import sklearn\n",
    "import numpy as np\n",
    "import fastapi\n",
    "\n",
    "print(sklearn.__version__, np.__version__, fastapi.__version__)"
   ]
  },
  {
   "cell_type": "code",
   "execution_count": null,
   "id": "8008780c",
   "metadata": {},
   "outputs": [],
   "source": []
  }
 ],
 "metadata": {
  "kernelspec": {
   "display_name": "Python 3 (ipykernel)",
   "language": "python",
   "name": "python3"
  },
  "language_info": {
   "codemirror_mode": {
    "name": "ipython",
    "version": 3
   },
   "file_extension": ".py",
   "mimetype": "text/x-python",
   "name": "python",
   "nbconvert_exporter": "python",
   "pygments_lexer": "ipython3",
   "version": "3.11.5"
  }
 },
 "nbformat": 4,
 "nbformat_minor": 5
}
